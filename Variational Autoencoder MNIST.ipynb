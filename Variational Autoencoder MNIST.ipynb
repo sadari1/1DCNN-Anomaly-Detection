{
 "cells": [
  {
   "cell_type": "code",
   "execution_count": 33,
   "metadata": {},
   "outputs": [],
   "source": [
    "import keras\n",
    "import numpy as np\n",
    "import matplotlib.pyplot as plt\n",
    "from keras.datasets import mnist\n",
    "from keras.models import Model\n",
    "from keras.layers import Dense, Dropout, Flatten, Input, Lambda\n",
    "from keras.layers import Conv2D, MaxPooling2D\n",
    "from keras import backend as K\n",
    "from keras.losses import mse, binary_crossentropy\n",
    "from keras.callbacks import ModelCheckpoint\n",
    "from keras.callbacks import TensorBoard"
   ]
  },
  {
   "cell_type": "code",
   "execution_count": 3,
   "metadata": {},
   "outputs": [],
   "source": [
    "batch_size = 128\n",
    "n_classes = 10\n",
    "n_epochs = 15\n",
    "\n",
    "im_row, im_col = 28, 28"
   ]
  },
  {
   "cell_type": "code",
   "execution_count": 38,
   "metadata": {},
   "outputs": [],
   "source": [
    "(x_train, y_train), (x_test, y_test) = mnist.load_data()"
   ]
  },
  {
   "cell_type": "code",
   "execution_count": 39,
   "metadata": {},
   "outputs": [
    {
     "data": {
      "image/png": "[encoded data removed]",
      "text/plain": [
       "<Figure size 432x288 with 1 Axes>"
      ]
     },
     "metadata": {},
     "output_type": "display_data"
    }
   ],
   "source": [
    "import matplotlib.pyplot as plt\n",
    "%matplotlib inline\n",
    "\n",
    "plt.imshow(x_train[1], cmap='gray')\n",
    "plt.show()"
   ]
  },
  {
   "cell_type": "code",
   "execution_count": 40,
   "metadata": {},
   "outputs": [],
   "source": [
    "if K.image_data_format() == 'channels_first':\n",
    "    x_train = x_train.reshape(x_train.shape[0], im_row * im_col)\n",
    "    x_test = x_test.reshape(x_test.shape[0],im_row * im_col)\n",
    "    input_shape = (im_row * im_col)\n",
    "else:\n",
    "    x_train = x_train.reshape(x_train.shape[0], im_row * im_col)\n",
    "    x_test = x_test.reshape(x_test.shape[0], im_row * im_col)\n",
    "    input_shape = (im_row * im_col)"
   ]
  },
  {
   "cell_type": "code",
   "execution_count": 41,
   "metadata": {},
   "outputs": [],
   "source": [
    "x_train = x_train.astype('float32')\n",
    "x_test = x_test.astype('float32')\n",
    "x_train /= 255\n",
    "x_test /= 255\n",
    "\n",
    "y_train = keras.utils.to_categorical(y_train, n_classes)\n",
    "y_test = keras.utils.to_categorical(y_test, n_classes)"
   ]
  },
  {
   "cell_type": "code",
   "execution_count": 42,
   "metadata": {},
   "outputs": [
    {
     "name": "stdout",
     "output_type": "stream",
     "text": [
      "x_train: (60000, 784)\n",
      "x_test: (10000, 784)\n",
      "input_shape: 784\n",
      " # of training samples: 60000\n",
      "# of testing samples: 10000\n"
     ]
    }
   ],
   "source": [
    "print(\"x_train: {}\\nx_test: {}\\ninput_shape: {}\\n \\\n",
    "# of training samples: {}\\n# of testing samples: {}\".format( \n",
    "x_train.shape, x_test.shape, input_shape, x_train.shape[0], x_test.shape[0]))"
   ]
  },
  {
   "cell_type": "code",
   "execution_count": 43,
   "metadata": {},
   "outputs": [],
   "source": [
    "def sampling(args):\n",
    "    \"\"\"Reparameterization trick by sampling from an isotropic unit Gaussian.\n",
    "    # Arguments\n",
    "        args (tensor): mean and log of variance of Q(z|X)\n",
    "    # Returns\n",
    "        z (tensor): sampled latent vector\n",
    "    \"\"\"\n",
    "\n",
    "    z_mean, z_log_var = args\n",
    "    batch = K.shape(z_mean)[0]\n",
    "    dim = K.int_shape(z_mean)[1]\n",
    "    # by default, random_normal has mean = 0 and std = 1.0\n",
    "    epsilon = K.random_normal(shape=(batch, dim))\n",
    "    return z_mean + K.exp(0.5 * z_log_var) * epsilon"
   ]
  },
  {
   "cell_type": "code",
   "execution_count": 68,
   "metadata": {},
   "outputs": [
    {
     "name": "stdout",
     "output_type": "stream",
     "text": [
      "784\n",
      "____________________________________________________________________________________________________\n",
      "Layer (type)                     Output Shape          Param #     Connected to                     \n",
      "====================================================================================================\n",
      "encoder_input (InputLayer)       (None, 784)           0                                            \n",
      "____________________________________________________________________________________________________\n",
      "dense_17 (Dense)                 (None, 256)           200960      encoder_input[0][0]              \n",
      "____________________________________________________________________________________________________\n",
      "z_mean (Dense)                   (None, 2)             514         dense_17[0][0]                   \n",
      "____________________________________________________________________________________________________\n",
      "z_log_var (Dense)                (None, 2)             514         dense_17[0][0]                   \n",
      "____________________________________________________________________________________________________\n",
      "z (Lambda)                       (None, 2)             0           z_mean[0][0]                     \n",
      "                                                                   z_log_var[0][0]                  \n",
      "====================================================================================================\n",
      "Total params: 201,988\n",
      "Trainable params: 201,988\n",
      "Non-trainable params: 0\n",
      "____________________________________________________________________________________________________\n",
      "_________________________________________________________________\n",
      "Layer (type)                 Output Shape              Param #   \n",
      "=================================================================\n",
      "z_sampling (InputLayer)      (None, 2)                 0         \n",
      "_________________________________________________________________\n",
      "dense_18 (Dense)             (None, 256)               768       \n",
      "_________________________________________________________________\n",
      "dense_19 (Dense)             (None, 784)               201488    \n",
      "=================================================================\n",
      "Total params: 202,256\n",
      "Trainable params: 202,256\n",
      "Non-trainable params: 0\n",
      "_________________________________________________________________\n"
     ]
    }
   ],
   "source": [
    "logfilename = \"variationalautoencoder\"\n",
    "\n",
    "\n",
    "original_dim  = x_train.shape[1]\n",
    "\n",
    "print(original_dim)\n",
    "\n",
    "input_shape = (original_dim,)\n",
    "intermediate_dim = 256\n",
    "batch_size = 64\n",
    "latent_dim = 2\n",
    "epochs = 60\n",
    "\n",
    "# VAE model = encoder + decoder\n",
    "# build encoder model\n",
    "inputs = Input(shape=input_shape, name='encoder_input')\n",
    "x = Dense(intermediate_dim, activation='relu')(inputs)\n",
    "z_mean = Dense(latent_dim, name='z_mean')(x)\n",
    "z_log_var = Dense(latent_dim, name='z_log_var')(x)\n",
    "\n",
    "# use reparameterization trick to push the sampling out as input\n",
    "# note that \"output_shape\" isn't necessary with the TensorFlow backend\n",
    "z = Lambda(sampling, output_shape=(latent_dim,), name='z')([z_mean, z_log_var])\n",
    "\n",
    "# instantiate encoder model\n",
    "encoder = Model(inputs, [z_mean, z_log_var, z], name='encoder')\n",
    "encoder.summary()\n",
    "\n",
    "# build decoder model\n",
    "latent_inputs = Input(shape=(latent_dim,), name='z_sampling')\n",
    "x = Dense(intermediate_dim, activation='relu')(latent_inputs)\n",
    "outputs = Dense(original_dim, activation='sigmoid')(x)\n",
    "\n",
    "# instantiate decoder model\n",
    "decoder = Model(latent_inputs, outputs, name='decoder')\n",
    "decoder.summary()\n",
    "\n",
    "# instantiate VAE model\n",
    "outputs = decoder(encoder(inputs)[2])\n",
    "vae = Model(inputs, outputs, name='vae_mlp')\n",
    "\n",
    "\n",
    "# VAE loss = mse_loss or xent_loss + kl_loss\n",
    "reconstruction_loss = mse(inputs, outputs)\n",
    "\n",
    "reconstruction_loss *= original_dim\n",
    "kl_loss = 1 + z_log_var - K.square(z_mean) - K.exp(z_log_var)\n",
    "kl_loss = K.sum(kl_loss, axis=-1)\n",
    "kl_loss *= -0.5\n",
    "vae_loss = K.mean(reconstruction_loss + kl_loss)\n",
    "vae.add_loss(vae_loss)"
   ]
  },
  {
   "cell_type": "code",
   "execution_count": 69,
   "metadata": {},
   "outputs": [
    {
     "name": "stdout",
     "output_type": "stream",
     "text": [
      "_________________________________________________________________\n",
      "Layer (type)                 Output Shape              Param #   \n",
      "=================================================================\n",
      "encoder_input (InputLayer)   (None, 784)               0         \n",
      "_________________________________________________________________\n",
      "encoder (Model)              [(None, 2), (None, 2), (N 201988    \n",
      "_________________________________________________________________\n",
      "decoder (Model)              (None, 784)               202256    \n",
      "=================================================================\n",
      "Total params: 404,244\n",
      "Trainable params: 404,244\n",
      "Non-trainable params: 0\n",
      "_________________________________________________________________\n"
     ]
    }
   ],
   "source": [
    "\n",
    "\n",
    "vae.compile(optimizer='adam', \n",
    "                    loss='mean_squared_error',\n",
    "                    metrics=['accuracy'])\n",
    "vae.summary()\n",
    "\n"
   ]
  },
  {
   "cell_type": "code",
   "execution_count": 70,
   "metadata": {},
   "outputs": [
    {
     "name": "stdout",
     "output_type": "stream",
     "text": [
      "Train on 60000 samples, validate on 10000 samples\n",
      "Epoch 1/60\n",
      "60000/60000 [==============================] - 9s - loss: 50.2978 - acc: 0.0136 - val_loss: 43.7600 - val_acc: 0.0153\n",
      "Epoch 2/60\n",
      "60000/60000 [==============================] - 9s - loss: 43.3880 - acc: 0.0148 - val_loss: 42.5286 - val_acc: 0.0154\n",
      "Epoch 3/60\n",
      "60000/60000 [==============================] - 10s - loss: 42.3851 - acc: 0.0166 - val_loss: 41.7288 - val_acc: 0.0144\n",
      "Epoch 4/60\n",
      "60000/60000 [==============================] - 9s - loss: 41.6682 - acc: 0.0165 - val_loss: 41.2287 - val_acc: 0.0111\n",
      "Epoch 5/60\n",
      "60000/60000 [==============================] - 10s - loss: 41.1560 - acc: 0.0145 - val_loss: 40.7961 - val_acc: 0.0132\n",
      "Epoch 6/60\n",
      "60000/60000 [==============================] - 9s - loss: 40.7690 - acc: 0.0136 - val_loss: 40.5230 - val_acc: 0.0130\n",
      "Epoch 7/60\n",
      "60000/60000 [==============================] - 9s - loss: 40.4291 - acc: 0.0134 - val_loss: 40.2279 - val_acc: 0.0127\n",
      "Epoch 8/60\n",
      "60000/60000 [==============================] - 9s - loss: 40.1773 - acc: 0.0135 - val_loss: 40.0975 - val_acc: 0.0114\n",
      "Epoch 9/60\n",
      "60000/60000 [==============================] - 11s - loss: 39.9165 - acc: 0.0136 - val_loss: 39.8006 - val_acc: 0.0116\n",
      "Epoch 10/60\n",
      "60000/60000 [==============================] - 10s - loss: 39.7075 - acc: 0.0129 - val_loss: 39.6740 - val_acc: 0.0123\n",
      "Epoch 11/60\n",
      "60000/60000 [==============================] - 12s - loss: 39.5019 - acc: 0.0131 - val_loss: 39.3624 - val_acc: 0.0123\n",
      "Epoch 12/60\n",
      "60000/60000 [==============================] - 11s - loss: 39.3004 - acc: 0.0129 - val_loss: 39.3128 - val_acc: 0.0104\n",
      "Epoch 13/60\n",
      "60000/60000 [==============================] - 10s - loss: 39.1356 - acc: 0.0121 - val_loss: 39.0929 - val_acc: 0.0096\n",
      "Epoch 14/60\n",
      "60000/60000 [==============================] - 11s - loss: 38.9868 - acc: 0.0114 - val_loss: 38.9651 - val_acc: 0.0088\n",
      "Epoch 15/60\n",
      "60000/60000 [==============================] - 12s - loss: 38.8227 - acc: 0.0113 - val_loss: 38.9665 - val_acc: 0.0110\n",
      "Epoch 16/60\n",
      "60000/60000 [==============================] - 11s - loss: 38.6859 - acc: 0.0115 - val_loss: 38.8394 - val_acc: 0.0089\n",
      "Epoch 17/60\n",
      "60000/60000 [==============================] - 10s - loss: 38.5732 - acc: 0.0106 - val_loss: 38.7143 - val_acc: 0.0110\n",
      "Epoch 18/60\n",
      "60000/60000 [==============================] - 10s - loss: 38.4554 - acc: 0.0111 - val_loss: 38.6269 - val_acc: 0.0096\n",
      "Epoch 19/60\n",
      "60000/60000 [==============================] - 11s - loss: 38.3698 - acc: 0.0108 - val_loss: 38.5068 - val_acc: 0.0100\n",
      "Epoch 20/60\n",
      "60000/60000 [==============================] - 11s - loss: 38.2782 - acc: 0.0110 - val_loss: 38.4895 - val_acc: 0.0101\n",
      "Epoch 21/60\n",
      "60000/60000 [==============================] - 9s - loss: 38.1868 - acc: 0.0106 - val_loss: 38.4099 - val_acc: 0.0084\n",
      "Epoch 22/60\n",
      "60000/60000 [==============================] - 8s - loss: 38.1073 - acc: 0.0103 - val_loss: 38.3268 - val_acc: 0.0089\n",
      "Epoch 23/60\n",
      "60000/60000 [==============================] - 8s - loss: 38.0308 - acc: 0.0108 - val_loss: 38.2588 - val_acc: 0.0088\n",
      "Epoch 24/60\n",
      "60000/60000 [==============================] - 8s - loss: 37.9657 - acc: 0.0106 - val_loss: 38.3165 - val_acc: 0.0092\n",
      "Epoch 25/60\n",
      "60000/60000 [==============================] - 8s - loss: 37.9088 - acc: 0.0100 - val_loss: 38.2946 - val_acc: 0.0103\n",
      "Epoch 26/60\n",
      "60000/60000 [==============================] - 8s - loss: 37.8421 - acc: 0.0105 - val_loss: 38.1777 - val_acc: 0.0102\n",
      "Epoch 27/60\n",
      "60000/60000 [==============================] - 9s - loss: 37.7807 - acc: 0.0107 - val_loss: 38.1988 - val_acc: 0.0108\n",
      "Epoch 28/60\n",
      "60000/60000 [==============================] - 10s - loss: 37.7106 - acc: 0.0110 - val_loss: 38.1151 - val_acc: 0.0111\n",
      "Epoch 29/60\n",
      "60000/60000 [==============================] - 10s - loss: 37.6625 - acc: 0.0104 - val_loss: 38.0484 - val_acc: 0.0092\n",
      "Epoch 30/60\n",
      "60000/60000 [==============================] - 10s - loss: 37.6046 - acc: 0.0106 - val_loss: 38.0029 - val_acc: 0.0100\n",
      "Epoch 31/60\n",
      "60000/60000 [==============================] - 10s - loss: 37.5612 - acc: 0.0105 - val_loss: 38.0181 - val_acc: 0.0102\n",
      "Epoch 32/60\n",
      "60000/60000 [==============================] - 10s - loss: 37.5120 - acc: 0.0108 - val_loss: 37.9099 - val_acc: 0.0103\n",
      "Epoch 33/60\n",
      "60000/60000 [==============================] - 10s - loss: 37.4590 - acc: 0.0104 - val_loss: 38.0004 - val_acc: 0.0110\n",
      "Epoch 34/60\n",
      "60000/60000 [==============================] - 10s - loss: 37.4097 - acc: 0.0104 - val_loss: 37.8809 - val_acc: 0.0096\n",
      "Epoch 35/60\n",
      "60000/60000 [==============================] - 10s - loss: 37.3405 - acc: 0.0108 - val_loss: 37.8943 - val_acc: 0.0104\n",
      "Epoch 36/60\n",
      "60000/60000 [==============================] - 9s - loss: 37.2991 - acc: 0.0105 - val_loss: 37.8467 - val_acc: 0.0092\n",
      "Epoch 37/60\n",
      "60000/60000 [==============================] - 9s - loss: 37.2729 - acc: 0.0112 - val_loss: 37.8974 - val_acc: 0.0110\n",
      "Epoch 38/60\n",
      "60000/60000 [==============================] - 10s - loss: 37.2114 - acc: 0.0109 - val_loss: 37.6678 - val_acc: 0.0104\n",
      "Epoch 39/60\n",
      "60000/60000 [==============================] - 11s - loss: 37.2021 - acc: 0.0105 - val_loss: 37.8140 - val_acc: 0.0102\n",
      "Epoch 40/60\n",
      "60000/60000 [==============================] - 9s - loss: 37.1589 - acc: 0.0102 - val_loss: 37.7569 - val_acc: 0.0112\n",
      "Epoch 41/60\n",
      "60000/60000 [==============================] - 9s - loss: 37.1254 - acc: 0.0108 - val_loss: 37.8545 - val_acc: 0.0089\n",
      "Epoch 42/60\n",
      "60000/60000 [==============================] - 10s - loss: 37.0925 - acc: 0.0104 - val_loss: 37.6943 - val_acc: 0.0110\n",
      "Epoch 43/60\n",
      "60000/60000 [==============================] - 9s - loss: 37.0385 - acc: 0.0105 - val_loss: 37.7843 - val_acc: 0.0099\n",
      "Epoch 44/60\n",
      "60000/60000 [==============================] - 11s - loss: 37.0339 - acc: 0.0106 - val_loss: 37.6752 - val_acc: 0.0086\n",
      "Epoch 45/60\n",
      "60000/60000 [==============================] - 10s - loss: 36.9824 - acc: 0.0104 - val_loss: 37.6402 - val_acc: 0.0108\n",
      "Epoch 46/60\n",
      "60000/60000 [==============================] - 10s - loss: 36.9539 - acc: 0.0104 - val_loss: 37.6976 - val_acc: 0.0104\n",
      "Epoch 47/60\n",
      "60000/60000 [==============================] - 10s - loss: 36.9187 - acc: 0.0105 - val_loss: 37.5707 - val_acc: 0.0096\n",
      "Epoch 48/60\n",
      "60000/60000 [==============================] - 10s - loss: 36.9231 - acc: 0.0103 - val_loss: 37.5481 - val_acc: 0.0099\n",
      "Epoch 49/60\n",
      "60000/60000 [==============================] - 10s - loss: 36.8684 - acc: 0.0104 - val_loss: 37.5889 - val_acc: 0.0098\n",
      "Epoch 50/60\n",
      "60000/60000 [==============================] - 9s - loss: 36.8488 - acc: 0.0109 - val_loss: 37.6286 - val_acc: 0.0103\n",
      "Epoch 51/60\n",
      "60000/60000 [==============================] - 11s - loss: 36.8196 - acc: 0.0100 - val_loss: 37.5050 - val_acc: 0.0107\n",
      "Epoch 52/60\n",
      "60000/60000 [==============================] - 10s - loss: 36.7979 - acc: 0.0105 - val_loss: 37.4899 - val_acc: 0.0094\n",
      "Epoch 53/60\n",
      "60000/60000 [==============================] - 10s - loss: 36.7676 - acc: 0.0105 - val_loss: 37.5163 - val_acc: 0.0110\n",
      "Epoch 54/60\n",
      "60000/60000 [==============================] - 10s - loss: 36.7656 - acc: 0.0098 - val_loss: 37.5101 - val_acc: 0.0096\n",
      "Epoch 55/60\n",
      "60000/60000 [==============================] - 10s - loss: 36.7332 - acc: 0.0106 - val_loss: 37.5387 - val_acc: 0.0108\n",
      "Epoch 56/60\n",
      "60000/60000 [==============================] - 11s - loss: 36.7000 - acc: 0.0101 - val_loss: 37.5742 - val_acc: 0.0102\n",
      "Epoch 57/60\n",
      "60000/60000 [==============================] - 10s - loss: 36.6732 - acc: 0.0108 - val_loss: 37.6650 - val_acc: 0.0121\n",
      "Epoch 58/60\n",
      "60000/60000 [==============================] - 9s - loss: 36.6561 - acc: 0.0105 - val_loss: 37.5073 - val_acc: 0.0091\n",
      "Epoch 59/60\n",
      "60000/60000 [==============================] - 10s - loss: 36.6411 - acc: 0.0109 - val_loss: 37.4087 - val_acc: 0.0111\n",
      "Epoch 60/60\n",
      "60000/60000 [==============================] - 10s - loss: 36.6189 - acc: 0.0106 - val_loss: 37.4468 - val_acc: 0.0104\n"
     ]
    }
   ],
   "source": [
    "history = vae.fit(x_train, x_train,\n",
    "                    batch_size=batch_size,\n",
    "                    epochs=epochs,\n",
    "                    verbose=1,\n",
    "                    shuffle=True,\n",
    "                    validation_data=(x_test, x_test),\n",
    "                    callbacks=[TensorBoard(log_dir='../logs/{0}'.format(logfilename))])"
   ]
  },
  {
   "cell_type": "code",
   "execution_count": 71,
   "metadata": {},
   "outputs": [],
   "source": [
    "preds = vae.predict(x_test)"
   ]
  },
  {
   "cell_type": "code",
   "execution_count": 84,
   "metadata": {},
   "outputs": [
    {
     "data": {
      "text/plain": [
       "<matplotlib.image.AxesImage at 0x24487625588>"
      ]
     },
     "execution_count": 84,
     "metadata": {},
     "output_type": "execute_result"
    },
    {
     "data": {
      "image/png": "[encoded data removed]",
      "text/plain": [
       "<Figure size 432x288 with 1 Axes>"
      ]
     },
     "metadata": {},
     "output_type": "display_data"
    }
   ],
   "source": [
    "plt.imshow(preds[69].reshape(28, 28))"
   ]
  },
  {
   "cell_type": "code",
   "execution_count": 85,
   "metadata": {},
   "outputs": [
    {
     "data": {
      "text/plain": [
       "<matplotlib.image.AxesImage at 0x2448767c438>"
      ]
     },
     "execution_count": 85,
     "metadata": {},
     "output_type": "execute_result"
    },
    {
     "data": {
      "image/png": "[encoded data removed]",
      "text/plain": [
       "<Figure size 432x288 with 1 Axes>"
      ]
     },
     "metadata": {},
     "output_type": "display_data"
    }
   ],
   "source": [
    "plt.imshow(x_test[69].reshape(28, 28))"
   ]
  },
  {
   "cell_type": "code",
   "execution_count": null,
   "metadata": {},
   "outputs": [],
   "source": []
  }
 ],
 "metadata": {
  "kernelspec": {
   "display_name": "python36",
   "language": "python",
   "name": "python36"
  },
  "language_info": {
   "codemirror_mode": {
    "name": "ipython",
    "version": 3
   },
   "file_extension": ".py",
   "mimetype": "text/x-python",
   "name": "python",
   "nbconvert_exporter": "python",
   "pygments_lexer": "ipython3",
   "version": "3.6.5"
  }
 },
 "nbformat": 4,
 "nbformat_minor": 2
}
