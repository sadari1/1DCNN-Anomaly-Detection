{
 "cells": [
  {
   "cell_type": "code",
   "execution_count": 2,
   "metadata": {},
   "outputs": [
    {
     "name": "stderr",
     "output_type": "stream",
     "text": [
      "C:\\Users\\Shumpu\\Anaconda2\\envs\\p36\\lib\\site-packages\\h5py\\__init__.py:36: FutureWarning: Conversion of the second argument of issubdtype from `float` to `np.floating` is deprecated. In future, it will be treated as `np.float64 == np.dtype(float).type`.\n",
      "  from ._conv import register_converters as _register_converters\n",
      "Using TensorFlow backend.\n"
     ]
    }
   ],
   "source": [
    "import numpy as np\n",
    "import pandas as pd\n",
    "import keras\n",
    "from keras import regularizers, optimizers\n",
    "from keras.layers import Input, Conv1D, Dense, Flatten, Activation, SpatialDropout1D, Dropout\n",
    "from keras.callbacks import ModelCheckpoint, TensorBoard\n",
    "from keras.models import Model, load_model\n",
    "from keras.utils import to_categorical\n",
    "from sklearn.model_selection import train_test_split\n",
    "from sklearn.preprocessing.data import StandardScaler\n",
    "from sklearn.preprocessing import LabelEncoder\n",
    "import matplotlib.pyplot as plt"
   ]
  },
  {
   "cell_type": "code",
   "execution_count": 3,
   "metadata": {},
   "outputs": [],
   "source": [
    "dataset_loc = 'dataset/dataset/ydata-ysm-keyphrase-bid-imp-click-v1_0.gz'\n",
    "\n",
    "df = pd.read_csv(dataset_loc, sep='\\t', nrows=100000, names=['day', 'anon_accountID', 'rank', 'anon_keyphrase', 'avg_bid', 'impressions', 'clicks'])\n",
    "\n",
    "df = df.sort_values(by='day')"
   ]
  },
  {
   "cell_type": "code",
   "execution_count": 4,
   "metadata": {},
   "outputs": [
    {
     "data": {
      "text/html": [
       "<div>\n",
       "<style scoped>\n",
       "    .dataframe tbody tr th:only-of-type {\n",
       "        vertical-align: middle;\n",
       "    }\n",
       "\n",
       "    .dataframe tbody tr th {\n",
       "        vertical-align: top;\n",
       "    }\n",
       "\n",
       "    .dataframe thead th {\n",
       "        text-align: right;\n",
       "    }\n",
       "</style>\n",
       "<table border=\"1\" class=\"dataframe\">\n",
       "  <thead>\n",
       "    <tr style=\"text-align: right;\">\n",
       "      <th></th>\n",
       "      <th>day</th>\n",
       "      <th>anon_accountID</th>\n",
       "      <th>rank</th>\n",
       "      <th>anon_keyphrase</th>\n",
       "      <th>avg_bid</th>\n",
       "      <th>impressions</th>\n",
       "      <th>clicks</th>\n",
       "    </tr>\n",
       "  </thead>\n",
       "  <tbody>\n",
       "    <tr>\n",
       "      <th>0</th>\n",
       "      <td>1</td>\n",
       "      <td>08bade48-1081-488f-b459-6c75d75312ae</td>\n",
       "      <td>2</td>\n",
       "      <td>2affa525151b6c51 79021a2e2c836c1a 327e089362aa...</td>\n",
       "      <td>100.0</td>\n",
       "      <td>2.0</td>\n",
       "      <td>0.0</td>\n",
       "    </tr>\n",
       "    <tr>\n",
       "      <th>12151</th>\n",
       "      <td>1</td>\n",
       "      <td>bcbad0a2-c502-44ba-9e8a-16ade955ece5</td>\n",
       "      <td>6</td>\n",
       "      <td>de84da9dfd5a336d 260ab222e6f66963</td>\n",
       "      <td>500.0</td>\n",
       "      <td>1.0</td>\n",
       "      <td>0.0</td>\n",
       "    </tr>\n",
       "    <tr>\n",
       "      <th>12157</th>\n",
       "      <td>1</td>\n",
       "      <td>bcbad0a2-c502-44ba-9e8a-16ade955ece5</td>\n",
       "      <td>1</td>\n",
       "      <td>de84da9dfd5a336d 9a914980640c1af3 569e9b84e86b...</td>\n",
       "      <td>500.0</td>\n",
       "      <td>1.0</td>\n",
       "      <td>0.0</td>\n",
       "    </tr>\n",
       "    <tr>\n",
       "      <th>12162</th>\n",
       "      <td>1</td>\n",
       "      <td>bcbad0a2-c502-44ba-9e8a-16ade955ece5</td>\n",
       "      <td>1</td>\n",
       "      <td>de84da9dfd5a336d 6f4a4738acf270b7 f43586ba2ab3...</td>\n",
       "      <td>560.0</td>\n",
       "      <td>1.0</td>\n",
       "      <td>0.0</td>\n",
       "    </tr>\n",
       "    <tr>\n",
       "      <th>12175</th>\n",
       "      <td>1</td>\n",
       "      <td>bcbad0a2-c502-44ba-9e8a-16ade955ece5</td>\n",
       "      <td>10</td>\n",
       "      <td>de84da9dfd5a336d ef8c02936aa620f8 50672b71ad8f...</td>\n",
       "      <td>510.0</td>\n",
       "      <td>1.0</td>\n",
       "      <td>0.0</td>\n",
       "    </tr>\n",
       "  </tbody>\n",
       "</table>\n",
       "</div>"
      ],
      "text/plain": [
       "       day                        anon_accountID  rank  \\\n",
       "0        1  08bade48-1081-488f-b459-6c75d75312ae     2   \n",
       "12151    1  bcbad0a2-c502-44ba-9e8a-16ade955ece5     6   \n",
       "12157    1  bcbad0a2-c502-44ba-9e8a-16ade955ece5     1   \n",
       "12162    1  bcbad0a2-c502-44ba-9e8a-16ade955ece5     1   \n",
       "12175    1  bcbad0a2-c502-44ba-9e8a-16ade955ece5    10   \n",
       "\n",
       "                                          anon_keyphrase  avg_bid  \\\n",
       "0      2affa525151b6c51 79021a2e2c836c1a 327e089362aa...    100.0   \n",
       "12151                  de84da9dfd5a336d 260ab222e6f66963    500.0   \n",
       "12157  de84da9dfd5a336d 9a914980640c1af3 569e9b84e86b...    500.0   \n",
       "12162  de84da9dfd5a336d 6f4a4738acf270b7 f43586ba2ab3...    560.0   \n",
       "12175  de84da9dfd5a336d ef8c02936aa620f8 50672b71ad8f...    510.0   \n",
       "\n",
       "       impressions  clicks  \n",
       "0              2.0     0.0  \n",
       "12151          1.0     0.0  \n",
       "12157          1.0     0.0  \n",
       "12162          1.0     0.0  \n",
       "12175          1.0     0.0  "
      ]
     },
     "execution_count": 4,
     "metadata": {},
     "output_type": "execute_result"
    }
   ],
   "source": [
    "df.head()"
   ]
  },
  {
   "cell_type": "code",
   "execution_count": null,
   "metadata": {},
   "outputs": [],
   "source": []
  },
  {
   "cell_type": "code",
   "execution_count": 5,
   "metadata": {},
   "outputs": [],
   "source": [
    "anon_id = LabelEncoder()\n",
    "anon_keyphrases = LabelEncoder()\n",
    "\n",
    "anon_id.fit(df['anon_accountID'])\n",
    "df['anon_accountID'] = anon_id.transform(df['anon_accountID'])\n",
    "\n",
    "anon_id.fit(df['anon_keyphrase'])\n",
    "df['anon_keyphrase'] = anon_id.transform(df['anon_keyphrase'])\n"
   ]
  },
  {
   "cell_type": "code",
   "execution_count": 6,
   "metadata": {},
   "outputs": [],
   "source": [
    "df['clicks'] = StandardScaler().fit_transform(df['clicks'].values.reshape(-1, 1))\n",
    "df['avg_bid'] = StandardScaler().fit_transform(df['avg_bid'].values.reshape(-1, 1))"
   ]
  },
  {
   "cell_type": "code",
   "execution_count": 16,
   "metadata": {},
   "outputs": [
    {
     "data": {
      "text/plain": [
       "<matplotlib.axes._subplots.AxesSubplot at 0x23b72da14a8>"
      ]
     },
     "execution_count": 16,
     "metadata": {},
     "output_type": "execute_result"
    },
    {
     "data": {
      "image/png": "[encoded data removed]",
      "text/plain": [
       "<Figure size 432x288 with 1 Axes>"
      ]
     },
     "metadata": {},
     "output_type": "display_data"
    }
   ],
   "source": [
    "df2 = df[ (df.avg_bid < 20)]\n",
    "df2.plot(x='day', y='avg_bid')"
   ]
  },
  {
   "cell_type": "code",
   "execution_count": 18,
   "metadata": {},
   "outputs": [
    {
     "name": "stdout",
     "output_type": "stream",
     "text": [
      "(1936, 64, 4) (1936, 1, 4)\n",
      "(97936, 64, 4) (97936, 1, 4)\n",
      "[[ 1.00000000e+00 -3.63721257e-01  2.00000000e+00 -5.67196833e-02]\n",
      " [ 4.00000000e+01 -4.73970575e-02  1.00000000e+00 -5.67196833e-02]\n",
      " [ 4.00000000e+01 -4.73970575e-02  1.00000000e+00 -5.67196833e-02]\n",
      " [ 4.00000000e+01  5.15724308e-05  1.00000000e+00 -5.67196833e-02]] [[40.         -0.04739706  2.         -0.05671968]]\n",
      "[[ 4.00000000e+01 -4.73970575e-02  1.00000000e+00 -5.67196833e-02]\n",
      " [ 4.00000000e+01 -4.73970575e-02  1.00000000e+00 -5.67196833e-02]\n",
      " [ 4.00000000e+01  5.15724308e-05  1.00000000e+00 -5.67196833e-02]\n",
      " [ 4.00000000e+01 -3.94889525e-02  1.00000000e+00 -5.67196833e-02]] [[21.         -0.16601863  3.         -0.05671968]]\n"
     ]
    }
   ],
   "source": [
    "training_points = 2000\n",
    "# split a univariate sequence into samples\n",
    "def split_sequence(sequence, n_steps_in, n_steps_out):\n",
    "    X, y = list(), list()\n",
    "    for i in range(len(sequence)):\n",
    "        # find the end of this pattern\n",
    "        end_ix = i + n_steps_in\n",
    "        out_end_ix = end_ix + n_steps_out\n",
    "        # check if we are beyond the sequence\n",
    "        if out_end_ix > len(sequence):\n",
    "            break\n",
    "        # gather input and output parts of the pattern\n",
    "        seq_x, seq_y = sequence[i:end_ix], sequence[end_ix: out_end_ix]\n",
    "        X.append(seq_x)\n",
    "        y.append(seq_y)\n",
    "    return np.array(X), np.array(y)\n",
    "\n",
    "# choose a number of time steps\n",
    "n_steps = 64\n",
    "n_features =4\n",
    "n_steps_out =1\n",
    "# split into samples\n",
    "rawsequence = np.array(df[['anon_accountID', 'avg_bid', 'impressions', 'clicks']].values)\n",
    "#rawsequence = np.array(df['scaled_value'])\n",
    "trainsequence = rawsequence[0:training_points]\n",
    "testsequence = rawsequence[training_points:]\n",
    "\n",
    "X_train, y_train = split_sequence(trainsequence, n_steps, n_steps_out)\n",
    "X_test, y_test = split_sequence(testsequence, n_steps, n_steps_out)\n",
    "# summarize the data\n",
    "print(X_train.shape, y_train.shape)\n",
    "print(X_test.shape, y_test.shape)\n",
    "\n",
    "#print(rawsequence[0:12])\n",
    "for i in range(2):\n",
    "\tprint(X_train[i][0:4], y_train[i])"
   ]
  },
  {
   "cell_type": "code",
   "execution_count": 19,
   "metadata": {},
   "outputs": [
    {
     "name": "stdout",
     "output_type": "stream",
     "text": [
      "(1936, 64, 4)\n",
      "(1936, 64, 4)\n"
     ]
    }
   ],
   "source": [
    "print(X_train.shape)\n",
    "X_train = X_train.reshape((X_train.shape[0], X_train.shape[1], n_features))\n",
    "print(X_train.shape)"
   ]
  },
  {
   "cell_type": "code",
   "execution_count": 20,
   "metadata": {},
   "outputs": [
    {
     "name": "stdout",
     "output_type": "stream",
     "text": [
      "(1936, 1, 4)\n",
      "(1936, 4)\n"
     ]
    }
   ],
   "source": [
    "print(y_train.shape)\n",
    "#y_train = y_train.reshape(y_train.shape[0],y_train.shape[1],n_features)\n",
    "y_train = y_train.reshape(y_train.shape[0],n_features)\n",
    "print(y_train.shape)"
   ]
  },
  {
   "cell_type": "code",
   "execution_count": 21,
   "metadata": {},
   "outputs": [
    {
     "name": "stdout",
     "output_type": "stream",
     "text": [
      "WARNING:tensorflow:From C:\\Users\\Shumpu\\Anaconda2\\envs\\p36\\lib\\site-packages\\keras\\backend\\tensorflow_backend.py:1188: calling reduce_sum (from tensorflow.python.ops.math_ops) with keep_dims is deprecated and will be removed in a future version.\n",
      "Instructions for updating:\n",
      "keep_dims is deprecated, use keepdims instead\n",
      "WARNING:tensorflow:From C:\\Users\\Shumpu\\Anaconda2\\envs\\p36\\lib\\site-packages\\keras\\backend\\tensorflow_backend.py:1205: calling reduce_prod (from tensorflow.python.ops.math_ops) with keep_dims is deprecated and will be removed in a future version.\n",
      "Instructions for updating:\n",
      "keep_dims is deprecated, use keepdims instead\n",
      "WARNING:tensorflow:From C:\\Users\\Shumpu\\Anaconda2\\envs\\p36\\lib\\site-packages\\keras\\backend\\tensorflow_backend.py:1290: calling reduce_mean (from tensorflow.python.ops.math_ops) with keep_dims is deprecated and will be removed in a future version.\n",
      "Instructions for updating:\n",
      "keep_dims is deprecated, use keepdims instead\n",
      "_________________________________________________________________\n",
      "Layer (type)                 Output Shape              Param #   \n",
      "=================================================================\n",
      "input_1 (InputLayer)         (None, 64, 4)             0         \n",
      "_________________________________________________________________\n",
      "conv1d_1 (Conv1D)            (None, 64, 256)           1280      \n",
      "_________________________________________________________________\n",
      "spatial_dropout1d_1 (Spatial (None, 64, 256)           0         \n",
      "_________________________________________________________________\n",
      "conv1d_2 (Conv1D)            (None, 64, 128)           32896     \n",
      "_________________________________________________________________\n",
      "spatial_dropout1d_2 (Spatial (None, 64, 128)           0         \n",
      "_________________________________________________________________\n",
      "conv1d_3 (Conv1D)            (None, 64, 64)            8256      \n",
      "_________________________________________________________________\n",
      "spatial_dropout1d_3 (Spatial (None, 64, 64)            0         \n",
      "_________________________________________________________________\n",
      "conv1d_4 (Conv1D)            (None, 64, 32)            2080      \n",
      "_________________________________________________________________\n",
      "flatten_1 (Flatten)          (None, 2048)              0         \n",
      "_________________________________________________________________\n",
      "dense_1 (Dense)              (None, 32)                65568     \n",
      "_________________________________________________________________\n",
      "dense_2 (Dense)              (None, 4)                 132       \n",
      "=================================================================\n",
      "Total params: 110,212\n",
      "Trainable params: 110,212\n",
      "Non-trainable params: 0\n",
      "_________________________________________________________________\n",
      "None\n"
     ]
    }
   ],
   "source": [
    "from keras.layers import regularizers, Flatten\n",
    "\n",
    "input_layer = Input (shape = (n_steps, n_features))\n",
    "conv_1 = Conv1D(filters=256, kernel_size=1, dilation_rate=1,\n",
    "                padding='causal', strides=1,input_shape=(n_steps, n_features),\n",
    "                kernel_regularizer=regularizers.l2(0.01),\n",
    "                activation='relu')(input_layer)\n",
    "\n",
    "drop_1 = SpatialDropout1D(0.3)(conv_1)\n",
    "\n",
    "conv_2 = Conv1D(filters=128, kernel_size=1, dilation_rate=1,\n",
    "                padding='causal',strides=1, kernel_regularizer=regularizers.l2(0.01),\n",
    "                activation='relu')(drop_1)\n",
    "\n",
    "drop_2 = SpatialDropout1D(0.3)(conv_2)\n",
    "\n",
    "conv_3 = Conv1D(filters=64, kernel_size=1, dilation_rate=1,\n",
    "                padding='causal', strides=1,kernel_regularizer=regularizers.l2(0.01),\n",
    "                activation='relu')(drop_2)\n",
    "\n",
    "drop_3 = SpatialDropout1D(0.3)(conv_3)\n",
    "\n",
    "conv_4 = Conv1D(filters=32, kernel_size=1, dilation_rate=1,\n",
    "                padding='causal', strides=1,kernel_regularizer=regularizers.l2(0.05),\n",
    "                activation='relu')(drop_3)\n",
    "\n",
    "flattened = Flatten()(conv_4)\n",
    "dense = Dense(32)(flattened)\n",
    "out = Dense(4)(dense)\n",
    "\n",
    "model = Model(input_layer, out)\n",
    "model.compile(optimizer=keras.optimizers.Adam(lr=0.002), loss='mse', metrics=['mse', 'accuracy'])\n",
    "print(model.summary())"
   ]
  },
  {
   "cell_type": "code",
   "execution_count": 23,
   "metadata": {},
   "outputs": [
    {
     "name": "stdout",
     "output_type": "stream",
     "text": [
      "Epoch 1/200\n",
      "1936/1936 [==============================] - 8s - loss: 108.1422 - mean_squared_error: 103.8100 - acc: 0.9421     \n",
      "Epoch 2/200\n",
      "1936/1936 [==============================] - 0s - loss: 99.3454 - mean_squared_error: 95.3928 - acc: 0.9571      \n",
      "Epoch 3/200\n",
      "1936/1936 [==============================] - 0s - loss: 98.0690 - mean_squared_error: 94.3157 - acc: 0.9566      \n",
      "Epoch 4/200\n",
      "1936/1936 [==============================] - 0s - loss: 97.5582 - mean_squared_error: 93.9799 - acc: 0.9571      \n",
      "Epoch 5/200\n",
      "1936/1936 [==============================] - 0s - loss: 94.5550 - mean_squared_error: 91.1286 - acc: 0.9571     \n",
      "Epoch 6/200\n",
      "1936/1936 [==============================] - 0s - loss: 94.0690 - mean_squared_error: 90.7832 - acc: 0.9571     \n",
      "Epoch 7/200\n",
      "1936/1936 [==============================] - 0s - loss: 93.5915 - mean_squared_error: 90.4341 - acc: 0.9561     \n",
      "Epoch 8/200\n",
      "1936/1936 [==============================] - 0s - loss: 94.2485 - mean_squared_error: 91.2108 - acc: 0.9561     \n",
      "Epoch 9/200\n",
      "1936/1936 [==============================] - 0s - loss: 92.1093 - mean_squared_error: 89.1905 - acc: 0.9561     \n",
      "Epoch 10/200\n",
      "1936/1936 [==============================] - 0s - loss: 92.4363 - mean_squared_error: 89.6249 - acc: 0.9576     \n",
      "Epoch 11/200\n",
      "1936/1936 [==============================] - 0s - loss: 91.2322 - mean_squared_error: 88.5187 - acc: 0.9566     \n",
      "Epoch 12/200\n",
      "1936/1936 [==============================] - 0s - loss: 90.6611 - mean_squared_error: 88.0472 - acc: 0.9561     \n",
      "Epoch 13/200\n",
      "1936/1936 [==============================] - 0s - loss: 89.5764 - mean_squared_error: 87.0512 - acc: 0.9582     \n",
      "Epoch 14/200\n",
      "1936/1936 [==============================] - 0s - loss: 89.3531 - mean_squared_error: 86.9080 - acc: 0.9556     \n",
      "Epoch 15/200\n",
      "1936/1936 [==============================] - 0s - loss: 89.4016 - mean_squared_error: 87.0371 - acc: 0.9545     \n",
      "Epoch 16/200\n",
      "1936/1936 [==============================] - 0s - loss: 88.8256 - mean_squared_error: 86.5447 - acc: 0.9561     \n",
      "Epoch 17/200\n",
      "1936/1936 [==============================] - 0s - loss: 90.0608 - mean_squared_error: 87.8551 - acc: 0.9530     \n",
      "Epoch 18/200\n",
      "1936/1936 [==============================] - 0s - loss: 88.4982 - mean_squared_error: 86.3614 - acc: 0.9571     \n",
      "Epoch 19/200\n",
      "1936/1936 [==============================] - 0s - loss: 87.2946 - mean_squared_error: 85.2242 - acc: 0.9561     \n",
      "Epoch 20/200\n",
      "1936/1936 [==============================] - 0s - loss: 88.9952 - mean_squared_error: 86.9822 - acc: 0.9566     \n",
      "Epoch 21/200\n",
      "1936/1936 [==============================] - 0s - loss: 88.2239 - mean_squared_error: 86.2672 - acc: 0.9561     \n",
      "Epoch 22/200\n",
      "1936/1936 [==============================] - 0s - loss: 87.1910 - mean_squared_error: 85.2902 - acc: 0.9566     \n",
      "Epoch 23/200\n",
      "1936/1936 [==============================] - 0s - loss: 86.9683 - mean_squared_error: 85.1209 - acc: 0.9556     \n",
      "Epoch 24/200\n",
      "1936/1936 [==============================] - 0s - loss: 86.8963 - mean_squared_error: 85.0985 - acc: 0.9530     \n",
      "Epoch 25/200\n",
      "1936/1936 [==============================] - 0s - loss: 86.7954 - mean_squared_error: 85.0439 - acc: 0.9576     \n",
      "Epoch 26/200\n",
      "1936/1936 [==============================] - 0s - loss: 85.8895 - mean_squared_error: 84.1706 - acc: 0.9509     \n",
      "Epoch 27/200\n",
      "1936/1936 [==============================] - 0s - loss: 86.3704 - mean_squared_error: 84.6904 - acc: 0.9561     \n",
      "Epoch 28/200\n",
      "1936/1936 [==============================] - 0s - loss: 85.6344 - mean_squared_error: 83.9829 - acc: 0.9545     \n",
      "Epoch 29/200\n",
      "1936/1936 [==============================] - 0s - loss: 85.3710 - mean_squared_error: 83.7545 - acc: 0.9545     \n",
      "Epoch 30/200\n",
      "1936/1936 [==============================] - 0s - loss: 85.9580 - mean_squared_error: 84.3657 - acc: 0.9504     \n",
      "Epoch 31/200\n",
      "1936/1936 [==============================] - 0s - loss: 85.5971 - mean_squared_error: 84.0309 - acc: 0.9545     \n",
      "Epoch 32/200\n",
      "1936/1936 [==============================] - 0s - loss: 85.7471 - mean_squared_error: 84.2129 - acc: 0.9561     \n",
      "Epoch 33/200\n",
      "1936/1936 [==============================] - 0s - loss: 85.0201 - mean_squared_error: 83.5141 - acc: 0.9561     \n",
      "Epoch 34/200\n",
      "1936/1936 [==============================] - 0s - loss: 84.4339 - mean_squared_error: 82.9396 - acc: 0.9556     \n",
      "Epoch 35/200\n",
      "1936/1936 [==============================] - 0s - loss: 84.0620 - mean_squared_error: 82.5991 - acc: 0.9530     \n",
      "Epoch 36/200\n",
      "1936/1936 [==============================] - 0s - loss: 84.9048 - mean_squared_error: 83.4667 - acc: 0.9576     \n",
      "Epoch 37/200\n",
      "1936/1936 [==============================] - 0s - loss: 84.6118 - mean_squared_error: 83.1930 - acc: 0.9561     \n",
      "Epoch 38/200\n",
      "1936/1936 [==============================] - 0s - loss: 84.7762 - mean_squared_error: 83.3819 - acc: 0.9551     \n",
      "Epoch 39/200\n",
      "1936/1936 [==============================] - 0s - loss: 84.0466 - mean_squared_error: 82.6595 - acc: 0.9540     \n",
      "Epoch 40/200\n",
      "1936/1936 [==============================] - 0s - loss: 84.4713 - mean_squared_error: 83.0978 - acc: 0.9571     \n",
      "Epoch 41/200\n",
      "1936/1936 [==============================] - 0s - loss: 83.9165 - mean_squared_error: 82.5556 - acc: 0.9556     \n",
      "Epoch 42/200\n",
      "1936/1936 [==============================] - 0s - loss: 82.9710 - mean_squared_error: 81.6293 - acc: 0.9597     \n",
      "Epoch 43/200\n",
      "1936/1936 [==============================] - 0s - loss: 82.7377 - mean_squared_error: 81.4140 - acc: 0.9571     \n",
      "Epoch 44/200\n",
      "1936/1936 [==============================] - 0s - loss: 82.8661 - mean_squared_error: 81.5382 - acc: 0.9483     \n",
      "Epoch 45/200\n",
      "1936/1936 [==============================] - 0s - loss: 83.2957 - mean_squared_error: 81.9950 - acc: 0.9571     \n",
      "Epoch 46/200\n",
      "1936/1936 [==============================] - 0s - loss: 82.5648 - mean_squared_error: 81.2893 - acc: 0.9566     \n",
      "Epoch 47/200\n",
      "1936/1936 [==============================] - 0s - loss: 83.1649 - mean_squared_error: 81.8946 - acc: 0.9489     \n",
      "Epoch 48/200\n",
      "1936/1936 [==============================] - 0s - loss: 84.4869 - mean_squared_error: 83.2155 - acc: 0.9504     \n",
      "Epoch 49/200\n",
      "1936/1936 [==============================] - 0s - loss: 82.4446 - mean_squared_error: 81.1924 - acc: 0.9535     \n",
      "Epoch 50/200\n",
      "1936/1936 [==============================] - 0s - loss: 83.8229 - mean_squared_error: 82.5812 - acc: 0.9566     \n",
      "Epoch 51/200\n",
      "1936/1936 [==============================] - 0s - loss: 81.4241 - mean_squared_error: 80.1885 - acc: 0.9571     \n",
      "Epoch 52/200\n",
      "1936/1936 [==============================] - 0s - loss: 82.7938 - mean_squared_error: 81.5674 - acc: 0.9556     \n",
      "Epoch 53/200\n",
      "1936/1936 [==============================] - 0s - loss: 82.2499 - mean_squared_error: 81.0254 - acc: 0.9509     \n",
      "Epoch 54/200\n",
      "1936/1936 [==============================] - 0s - loss: 80.7011 - mean_squared_error: 79.4964 - acc: 0.9566     \n",
      "Epoch 55/200\n",
      "1936/1936 [==============================] - 0s - loss: 80.5515 - mean_squared_error: 79.3365 - acc: 0.9540     \n",
      "Epoch 56/200\n",
      "1936/1936 [==============================] - 0s - loss: 82.3959 - mean_squared_error: 81.1787 - acc: 0.9551     \n",
      "Epoch 57/200\n",
      "1936/1936 [==============================] - 0s - loss: 80.7855 - mean_squared_error: 79.5787 - acc: 0.9566     \n",
      "Epoch 58/200\n",
      "1936/1936 [==============================] - 0s - loss: 80.7951 - mean_squared_error: 79.5989 - acc: 0.9556     \n",
      "Epoch 59/200\n",
      "1936/1936 [==============================] - 0s - loss: 81.2105 - mean_squared_error: 80.0006 - acc: 0.9530     \n",
      "Epoch 60/200\n",
      "1936/1936 [==============================] - 0s - loss: 81.4498 - mean_squared_error: 80.2370 - acc: 0.9514     \n",
      "Epoch 61/200\n",
      "1936/1936 [==============================] - 0s - loss: 80.0204 - mean_squared_error: 78.8267 - acc: 0.9556     \n",
      "Epoch 62/200\n",
      "1936/1936 [==============================] - 0s - loss: 82.8026 - mean_squared_error: 81.5922 - acc: 0.9504     \n",
      "Epoch 63/200\n",
      "1936/1936 [==============================] - 0s - loss: 82.0352 - mean_squared_error: 80.8028 - acc: 0.9504     \n",
      "Epoch 64/200\n",
      "1936/1936 [==============================] - 0s - loss: 81.9579 - mean_squared_error: 80.7202 - acc: 0.9504     \n",
      "Epoch 65/200\n",
      "1936/1936 [==============================] - 0s - loss: 81.7721 - mean_squared_error: 80.5449 - acc: 0.9514     \n",
      "Epoch 66/200\n"
     ]
    },
    {
     "name": "stdout",
     "output_type": "stream",
     "text": [
      "1936/1936 [==============================] - 0s - loss: 80.4360 - mean_squared_error: 79.2204 - acc: 0.9530     \n",
      "Epoch 67/200\n",
      "1936/1936 [==============================] - 0s - loss: 81.8428 - mean_squared_error: 80.6253 - acc: 0.9525     \n",
      "Epoch 68/200\n",
      "1936/1936 [==============================] - 0s - loss: 81.1478 - mean_squared_error: 79.9409 - acc: 0.9545     \n",
      "Epoch 69/200\n",
      "1936/1936 [==============================] - 0s - loss: 80.7686 - mean_squared_error: 79.5504 - acc: 0.9483     \n",
      "Epoch 70/200\n",
      "1936/1936 [==============================] - 0s - loss: 79.8372 - mean_squared_error: 78.6091 - acc: 0.9535     \n",
      "Epoch 71/200\n",
      "1936/1936 [==============================] - 0s - loss: 80.7613 - mean_squared_error: 79.5278 - acc: 0.9483     \n",
      "Epoch 72/200\n",
      "1936/1936 [==============================] - 0s - loss: 79.7155 - mean_squared_error: 78.4852 - acc: 0.9587     \n",
      "Epoch 73/200\n",
      "1936/1936 [==============================] - 0s - loss: 78.8047 - mean_squared_error: 77.5714 - acc: 0.9525     \n",
      "Epoch 74/200\n",
      "1936/1936 [==============================] - 0s - loss: 80.7076 - mean_squared_error: 79.4799 - acc: 0.9520     \n",
      "Epoch 75/200\n",
      "1936/1936 [==============================] - 1s - loss: 79.3112 - mean_squared_error: 78.0718 - acc: 0.9478     \n",
      "Epoch 76/200\n",
      "1936/1936 [==============================] - 0s - loss: 79.8926 - mean_squared_error: 78.6521 - acc: 0.9556     \n",
      "Epoch 77/200\n",
      "1936/1936 [==============================] - 0s - loss: 79.8275 - mean_squared_error: 78.5637 - acc: 0.9427     \n",
      "Epoch 78/200\n",
      "1936/1936 [==============================] - 0s - loss: 80.5289 - mean_squared_error: 79.2502 - acc: 0.9540     \n",
      "Epoch 79/200\n",
      "1936/1936 [==============================] - 0s - loss: 80.4186 - mean_squared_error: 79.1392 - acc: 0.9530     \n",
      "Epoch 80/200\n",
      "1936/1936 [==============================] - 0s - loss: 79.0328 - mean_squared_error: 77.7516 - acc: 0.9463     \n",
      "Epoch 81/200\n",
      "1936/1936 [==============================] - 0s - loss: 78.9728 - mean_squared_error: 77.6976 - acc: 0.9489     \n",
      "Epoch 82/200\n",
      "1936/1936 [==============================] - 0s - loss: 79.3129 - mean_squared_error: 78.0434 - acc: 0.9504     \n",
      "Epoch 83/200\n",
      "1936/1936 [==============================] - 0s - loss: 79.1114 - mean_squared_error: 77.8233 - acc: 0.9520     \n",
      "Epoch 84/200\n",
      "1936/1936 [==============================] - 0s - loss: 79.9049 - mean_squared_error: 78.6184 - acc: 0.9520     \n",
      "Epoch 85/200\n",
      "1936/1936 [==============================] - 0s - loss: 80.6010 - mean_squared_error: 79.2991 - acc: 0.9499     \n",
      "Epoch 86/200\n",
      "1936/1936 [==============================] - 0s - loss: 77.6535 - mean_squared_error: 76.3571 - acc: 0.9545      ETA: 0s - loss: 39.0393 - mean_squared_error: 37.7377 - acc - ETA: 0s - loss: 68.2854 - mean_squared_error: 66.9891 - a\n",
      "Epoch 87/200\n",
      "1936/1936 [==============================] - 0s - loss: 79.9058 - mean_squared_error: 78.6081 - acc: 0.9509     \n",
      "Epoch 88/200\n",
      "1936/1936 [==============================] - 0s - loss: 78.7502 - mean_squared_error: 77.4321 - acc: 0.9571     \n",
      "Epoch 89/200\n",
      "1936/1936 [==============================] - 0s - loss: 76.7742 - mean_squared_error: 75.4477 - acc: 0.9540     \n",
      "Epoch 90/200\n",
      "1936/1936 [==============================] - 0s - loss: 78.9930 - mean_squared_error: 77.6439 - acc: 0.9427     \n",
      "Epoch 91/200\n",
      "1936/1936 [==============================] - 1s - loss: 79.7834 - mean_squared_error: 78.4331 - acc: 0.9530     \n",
      "Epoch 92/200\n",
      "1936/1936 [==============================] - 0s - loss: 78.3802 - mean_squared_error: 77.0239 - acc: 0.9499     \n",
      "Epoch 93/200\n",
      "1936/1936 [==============================] - 0s - loss: 76.3837 - mean_squared_error: 75.0178 - acc: 0.9499     \n",
      "Epoch 94/200\n",
      "1936/1936 [==============================] - 0s - loss: 79.5824 - mean_squared_error: 78.1850 - acc: 0.9520     \n",
      "Epoch 95/200\n",
      "1936/1936 [==============================] - 0s - loss: 79.0531 - mean_squared_error: 77.6513 - acc: 0.9478     \n",
      "Epoch 96/200\n",
      "1936/1936 [==============================] - 0s - loss: 77.4139 - mean_squared_error: 76.0083 - acc: 0.9504     \n",
      "Epoch 97/200\n",
      "1936/1936 [==============================] - 0s - loss: 79.3685 - mean_squared_error: 77.9655 - acc: 0.9473     \n",
      "Epoch 98/200\n",
      "1936/1936 [==============================] - 0s - loss: 77.4760 - mean_squared_error: 76.0833 - acc: 0.9514     \n",
      "Epoch 99/200\n",
      "1936/1936 [==============================] - 0s - loss: 78.4787 - mean_squared_error: 77.0678 - acc: 0.9437     \n",
      "Epoch 100/200\n",
      "1936/1936 [==============================] - 0s - loss: 78.5888 - mean_squared_error: 77.1685 - acc: 0.9520     \n",
      "Epoch 101/200\n",
      "1936/1936 [==============================] - 0s - loss: 76.8141 - mean_squared_error: 75.3970 - acc: 0.9452     \n",
      "Epoch 102/200\n",
      "1936/1936 [==============================] - 0s - loss: 77.5664 - mean_squared_error: 76.1401 - acc: 0.9463     \n",
      "Epoch 103/200\n",
      "1936/1936 [==============================] - 0s - loss: 76.3182 - mean_squared_error: 74.8996 - acc: 0.9509     \n",
      "Epoch 104/200\n",
      "1936/1936 [==============================] - 0s - loss: 75.6541 - mean_squared_error: 74.2335 - acc: 0.9478     \n",
      "Epoch 105/200\n",
      "1936/1936 [==============================] - 0s - loss: 77.0260 - mean_squared_error: 75.5943 - acc: 0.9509     \n",
      "Epoch 106/200\n",
      "1936/1936 [==============================] - 0s - loss: 76.6325 - mean_squared_error: 75.2021 - acc: 0.9390     \n",
      "Epoch 107/200\n",
      "1936/1936 [==============================] - 0s - loss: 78.0502 - mean_squared_error: 76.6054 - acc: 0.9483     \n",
      "Epoch 108/200\n",
      "1936/1936 [==============================] - 0s - loss: 77.1567 - mean_squared_error: 75.7098 - acc: 0.9478     \n",
      "Epoch 109/200\n",
      "1936/1936 [==============================] - 0s - loss: 76.6728 - mean_squared_error: 75.2199 - acc: 0.9396     \n",
      "Epoch 110/200\n",
      "1936/1936 [==============================] - 0s - loss: 76.2348 - mean_squared_error: 74.7699 - acc: 0.9509     \n",
      "Epoch 111/200\n",
      "1936/1936 [==============================] - 0s - loss: 76.4159 - mean_squared_error: 74.9539 - acc: 0.9452     \n",
      "Epoch 112/200\n",
      "1936/1936 [==============================] - 0s - loss: 77.0226 - mean_squared_error: 75.5488 - acc: 0.9411     \n",
      "Epoch 113/200\n",
      "1936/1936 [==============================] - 0s - loss: 76.5006 - mean_squared_error: 75.0196 - acc: 0.9463     \n",
      "Epoch 114/200\n",
      "1936/1936 [==============================] - 0s - loss: 76.2869 - mean_squared_error: 74.8063 - acc: 0.9499     \n",
      "Epoch 115/200\n",
      "1936/1936 [==============================] - 0s - loss: 75.0590 - mean_squared_error: 73.5765 - acc: 0.9411      ETA: 0s - loss: 79.1556 - mean_squared_error: 77.6732 - acc: 0.\n",
      "Epoch 116/200\n",
      "1936/1936 [==============================] - 0s - loss: 74.2015 - mean_squared_error: 72.7200 - acc: 0.9463     \n",
      "Epoch 117/200\n",
      "1936/1936 [==============================] - 0s - loss: 75.7958 - mean_squared_error: 74.3004 - acc: 0.9396     \n",
      "Epoch 118/200\n",
      "1936/1936 [==============================] - 0s - loss: 76.2431 - mean_squared_error: 74.7199 - acc: 0.9365     \n",
      "Epoch 119/200\n",
      "1936/1936 [==============================] - 0s - loss: 75.2139 - mean_squared_error: 73.6926 - acc: 0.9473     \n",
      "Epoch 120/200\n",
      "1936/1936 [==============================] - 0s - loss: 76.0513 - mean_squared_error: 74.5220 - acc: 0.9458     \n",
      "Epoch 121/200\n",
      "1936/1936 [==============================] - 0s - loss: 77.4293 - mean_squared_error: 75.8920 - acc: 0.9447     \n",
      "Epoch 122/200\n",
      "1936/1936 [==============================] - 0s - loss: 74.1550 - mean_squared_error: 72.6030 - acc: 0.9478     \n",
      "Epoch 123/200\n",
      "1936/1936 [==============================] - 0s - loss: 75.9208 - mean_squared_error: 74.3635 - acc: 0.9478     \n",
      "Epoch 124/200\n",
      "1936/1936 [==============================] - 0s - loss: 76.8174 - mean_squared_error: 75.2659 - acc: 0.9452     \n",
      "Epoch 125/200\n",
      "1936/1936 [==============================] - 0s - loss: 75.7299 - mean_squared_error: 74.1705 - acc: 0.9468     \n",
      "Epoch 126/200\n",
      "1936/1936 [==============================] - 0s - loss: 77.6733 - mean_squared_error: 76.0905 - acc: 0.9489     \n",
      "Epoch 127/200\n",
      "1936/1936 [==============================] - 0s - loss: 76.0515 - mean_squared_error: 74.4587 - acc: 0.9421     \n",
      "Epoch 128/200\n",
      "1936/1936 [==============================] - 0s - loss: 74.7597 - mean_squared_error: 73.1645 - acc: 0.9478     \n",
      "Epoch 129/200\n"
     ]
    },
    {
     "name": "stdout",
     "output_type": "stream",
     "text": [
      "1936/1936 [==============================] - 0s - loss: 76.9783 - mean_squared_error: 75.3731 - acc: 0.9432     \n",
      "Epoch 130/200\n",
      "1936/1936 [==============================] - 0s - loss: 77.1059 - mean_squared_error: 75.4794 - acc: 0.9504     \n",
      "Epoch 131/200\n",
      "1936/1936 [==============================] - 0s - loss: 74.2152 - mean_squared_error: 72.5730 - acc: 0.9447     \n",
      "Epoch 132/200\n",
      "1936/1936 [==============================] - 0s - loss: 73.1643 - mean_squared_error: 71.5087 - acc: 0.9458     \n",
      "Epoch 133/200\n",
      "1936/1936 [==============================] - 0s - loss: 73.0169 - mean_squared_error: 71.3538 - acc: 0.9411     \n",
      "Epoch 134/200\n",
      "1936/1936 [==============================] - 0s - loss: 74.6064 - mean_squared_error: 72.9463 - acc: 0.9463     \n",
      "Epoch 135/200\n",
      "1936/1936 [==============================] - 0s - loss: 73.1049 - mean_squared_error: 71.4195 - acc: 0.9411     \n",
      "Epoch 136/200\n",
      "1936/1936 [==============================] - 0s - loss: 74.3493 - mean_squared_error: 72.6369 - acc: 0.9447     \n",
      "Epoch 137/200\n",
      "1936/1936 [==============================] - 0s - loss: 74.7222 - mean_squared_error: 73.0177 - acc: 0.9530     \n",
      "Epoch 138/200\n",
      "1936/1936 [==============================] - 0s - loss: 75.7582 - mean_squared_error: 74.0465 - acc: 0.9298     \n",
      "Epoch 139/200\n",
      "1936/1936 [==============================] - 0s - loss: 73.5915 - mean_squared_error: 71.8695 - acc: 0.9365     \n",
      "Epoch 140/200\n",
      "1936/1936 [==============================] - 0s - loss: 75.7832 - mean_squared_error: 74.0355 - acc: 0.9437     \n",
      "Epoch 141/200\n",
      "1936/1936 [==============================] - 0s - loss: 74.6901 - mean_squared_error: 72.9521 - acc: 0.9452     \n",
      "Epoch 142/200\n",
      "1936/1936 [==============================] - 0s - loss: 74.5943 - mean_squared_error: 72.8556 - acc: 0.9442     \n",
      "Epoch 143/200\n",
      "1936/1936 [==============================] - 0s - loss: 72.1048 - mean_squared_error: 70.3559 - acc: 0.9489     \n",
      "Epoch 144/200\n",
      "1936/1936 [==============================] - 0s - loss: 75.0722 - mean_squared_error: 73.3072 - acc: 0.9452     \n",
      "Epoch 145/200\n",
      "1936/1936 [==============================] - 0s - loss: 73.9351 - mean_squared_error: 72.1525 - acc: 0.9416     \n",
      "Epoch 146/200\n",
      "1936/1936 [==============================] - 0s - loss: 73.6082 - mean_squared_error: 71.8077 - acc: 0.9447     \n",
      "Epoch 147/200\n",
      "1936/1936 [==============================] - 0s - loss: 72.8033 - mean_squared_error: 70.9977 - acc: 0.9452     \n",
      "Epoch 148/200\n",
      "1936/1936 [==============================] - 0s - loss: 74.2248 - mean_squared_error: 72.4077 - acc: 0.9458     \n",
      "Epoch 149/200\n",
      "1936/1936 [==============================] - 0s - loss: 72.3237 - mean_squared_error: 70.5200 - acc: 0.9520     \n",
      "Epoch 150/200\n",
      "1936/1936 [==============================] - 0s - loss: 73.0101 - mean_squared_error: 71.1802 - acc: 0.9360     \n",
      "Epoch 151/200\n",
      "1936/1936 [==============================] - 0s - loss: 75.2592 - mean_squared_error: 73.4288 - acc: 0.9545     \n",
      "Epoch 152/200\n",
      "1936/1936 [==============================] - 0s - loss: 74.1906 - mean_squared_error: 72.3592 - acc: 0.9504     \n",
      "Epoch 153/200\n",
      "1936/1936 [==============================] - 0s - loss: 73.2141 - mean_squared_error: 71.3861 - acc: 0.9452     \n",
      "Epoch 154/200\n",
      "1936/1936 [==============================] - 0s - loss: 73.4936 - mean_squared_error: 71.6413 - acc: 0.9427     \n",
      "Epoch 155/200\n",
      "1936/1936 [==============================] - 0s - loss: 72.4883 - mean_squared_error: 70.6243 - acc: 0.9411     \n",
      "Epoch 156/200\n",
      "1936/1936 [==============================] - 0s - loss: 72.7845 - mean_squared_error: 70.9021 - acc: 0.9323     \n",
      "Epoch 157/200\n",
      "1936/1936 [==============================] - 0s - loss: 75.3159 - mean_squared_error: 73.3978 - acc: 0.9463     \n",
      "Epoch 158/200\n",
      "1936/1936 [==============================] - 0s - loss: 72.1653 - mean_squared_error: 70.2701 - acc: 0.9452     \n",
      "Epoch 159/200\n",
      "1936/1936 [==============================] - 0s - loss: 74.9719 - mean_squared_error: 73.0680 - acc: 0.9411     \n",
      "Epoch 160/200\n",
      "1936/1936 [==============================] - 0s - loss: 72.9457 - mean_squared_error: 71.0170 - acc: 0.9401     \n",
      "Epoch 161/200\n",
      "1936/1936 [==============================] - 0s - loss: 74.9202 - mean_squared_error: 72.9690 - acc: 0.9406     \n",
      "Epoch 162/200\n",
      "1936/1936 [==============================] - 0s - loss: 73.9241 - mean_squared_error: 71.9661 - acc: 0.9494     \n",
      "Epoch 163/200\n",
      "1936/1936 [==============================] - 0s - loss: 74.5348 - mean_squared_error: 72.5796 - acc: 0.9509     \n",
      "Epoch 164/200\n",
      "1936/1936 [==============================] - 0s - loss: 73.0960 - mean_squared_error: 71.1189 - acc: 0.9473     \n",
      "Epoch 165/200\n",
      "1936/1936 [==============================] - 0s - loss: 70.9983 - mean_squared_error: 69.0109 - acc: 0.9385     \n",
      "Epoch 166/200\n",
      "1936/1936 [==============================] - 0s - loss: 72.9494 - mean_squared_error: 70.9522 - acc: 0.9473     \n",
      "Epoch 167/200\n",
      "1936/1936 [==============================] - 0s - loss: 72.1924 - mean_squared_error: 70.1888 - acc: 0.9396     \n",
      "Epoch 168/200\n",
      "1936/1936 [==============================] - 0s - loss: 72.0328 - mean_squared_error: 70.0265 - acc: 0.9401     \n",
      "Epoch 169/200\n",
      "1936/1936 [==============================] - 0s - loss: 70.4982 - mean_squared_error: 68.4703 - acc: 0.9468     \n",
      "Epoch 170/200\n",
      "1936/1936 [==============================] - 0s - loss: 72.8369 - mean_squared_error: 70.7812 - acc: 0.9396     \n",
      "Epoch 171/200\n",
      "1936/1936 [==============================] - 0s - loss: 74.0867 - mean_squared_error: 72.0463 - acc: 0.9427     \n",
      "Epoch 172/200\n",
      "1936/1936 [==============================] - 0s - loss: 72.3976 - mean_squared_error: 70.3622 - acc: 0.9432     \n",
      "Epoch 173/200\n",
      "1936/1936 [==============================] - 0s - loss: 72.6021 - mean_squared_error: 70.5404 - acc: 0.9427     \n",
      "Epoch 174/200\n",
      "1936/1936 [==============================] - 0s - loss: 70.9640 - mean_squared_error: 68.9036 - acc: 0.9468     \n",
      "Epoch 175/200\n",
      "1936/1936 [==============================] - 0s - loss: 71.5449 - mean_squared_error: 69.4870 - acc: 0.9437     \n",
      "Epoch 176/200\n",
      "1936/1936 [==============================] - 0s - loss: 73.3604 - mean_squared_error: 71.3129 - acc: 0.9406     \n",
      "Epoch 177/200\n",
      "1936/1936 [==============================] - 0s - loss: 73.4210 - mean_squared_error: 71.3442 - acc: 0.9334     \n",
      "Epoch 178/200\n",
      "1936/1936 [==============================] - 0s - loss: 72.1981 - mean_squared_error: 70.1176 - acc: 0.9380     \n",
      "Epoch 179/200\n",
      "1936/1936 [==============================] - 0s - loss: 71.8308 - mean_squared_error: 69.7638 - acc: 0.9483     \n",
      "Epoch 180/200\n",
      "1936/1936 [==============================] - 0s - loss: 70.0642 - mean_squared_error: 67.9976 - acc: 0.9390     \n",
      "Epoch 181/200\n",
      "1936/1936 [==============================] - 0s - loss: 70.4152 - mean_squared_error: 68.3458 - acc: 0.9432     \n",
      "Epoch 182/200\n",
      "1936/1936 [==============================] - 0s - loss: 72.5373 - mean_squared_error: 70.4253 - acc: 0.9401     \n",
      "Epoch 183/200\n",
      "1936/1936 [==============================] - 0s - loss: 68.3691 - mean_squared_error: 66.2434 - acc: 0.9370     \n",
      "Epoch 184/200\n",
      "1936/1936 [==============================] - 0s - loss: 73.5648 - mean_squared_error: 71.4294 - acc: 0.9323     \n",
      "Epoch 185/200\n",
      "1936/1936 [==============================] - 0s - loss: 70.0461 - mean_squared_error: 67.9301 - acc: 0.9571     \n",
      "Epoch 186/200\n",
      "1936/1936 [==============================] - 0s - loss: 72.8356 - mean_squared_error: 70.7050 - acc: 0.9344     \n",
      "Epoch 187/200\n",
      "1936/1936 [==============================] - 0s - loss: 71.6288 - mean_squared_error: 69.4907 - acc: 0.9442     \n",
      "Epoch 188/200\n",
      "1936/1936 [==============================] - 0s - loss: 71.2895 - mean_squared_error: 69.1439 - acc: 0.9442     \n",
      "Epoch 189/200\n",
      "1936/1936 [==============================] - 0s - loss: 69.5212 - mean_squared_error: 67.3704 - acc: 0.9380     \n",
      "Epoch 190/200\n",
      "1936/1936 [==============================] - 0s - loss: 73.1321 - mean_squared_error: 70.9319 - acc: 0.9308      ETA: 0s - loss: 80.3924 - mean_squared_error: 78.1905 - acc: \n",
      "Epoch 191/200\n",
      "1936/1936 [==============================] - 0s - loss: 69.5775 - mean_squared_error: 67.3977 - acc: 0.9427      ETA: 0s - loss: 35.2614 - mean_squared_error:\n",
      "Epoch 192/200\n"
     ]
    },
    {
     "name": "stdout",
     "output_type": "stream",
     "text": [
      "1936/1936 [==============================] - 0s - loss: 72.1016 - mean_squared_error: 69.8885 - acc: 0.9427     \n",
      "Epoch 193/200\n",
      "1936/1936 [==============================] - 0s - loss: 75.4905 - mean_squared_error: 73.2569 - acc: 0.9401     \n",
      "Epoch 194/200\n",
      "1936/1936 [==============================] - 0s - loss: 71.8753 - mean_squared_error: 69.6471 - acc: 0.9365     \n",
      "Epoch 195/200\n",
      "1936/1936 [==============================] - 0s - loss: 73.2470 - mean_squared_error: 71.0157 - acc: 0.9411     \n",
      "Epoch 196/200\n",
      "1936/1936 [==============================] - 0s - loss: 69.3020 - mean_squared_error: 67.0582 - acc: 0.9380     \n",
      "Epoch 197/200\n",
      "1936/1936 [==============================] - 0s - loss: 69.3502 - mean_squared_error: 67.0963 - acc: 0.9411     \n",
      "Epoch 198/200\n",
      "1936/1936 [==============================] - 0s - loss: 70.9778 - mean_squared_error: 68.7303 - acc: 0.9360     \n",
      "Epoch 199/200\n",
      "1936/1936 [==============================] - 0s - loss: 72.9425 - mean_squared_error: 70.6906 - acc: 0.9463     \n",
      "Epoch 200/200\n",
      "1936/1936 [==============================] - 0s - loss: 68.9772 - mean_squared_error: 66.7142 - acc: 0.9421      ETA: 0s - loss: 35.0029 - mean_squared_error:\n"
     ]
    },
    {
     "data": {
      "text/plain": [
       "<keras.callbacks.History at 0x23b760943c8>"
      ]
     },
     "execution_count": 23,
     "metadata": {},
     "output_type": "execute_result"
    }
   ],
   "source": [
    "batch_size=32\n",
    "epochs=200\n",
    "\n",
    "model.fit(x=X_train, y=y_train,\n",
    "                       batch_size=batch_size, epochs=epochs,\n",
    "                       verbose=1)"
   ]
  },
  {
   "cell_type": "code",
   "execution_count": 24,
   "metadata": {},
   "outputs": [
    {
     "name": "stdout",
     "output_type": "stream",
     "text": [
      "(64, 4)\n",
      "(1, 64, 4)\n",
      "[[30.          0.39545682  2.         -0.05671968]\n",
      " [39.          0.74341344  1.         -0.05671968]\n",
      " [14.         -0.32418073  1.         -0.05671968]\n",
      " [14.         -0.32418073  1.         -0.05671968]]\n",
      "[[23.21909     0.22558743 -4.338247   -0.12333544]]\n",
      "(64, 4)\n",
      "[[14.         -0.17392674  1.         -0.05671968]\n",
      " [40.         -0.04739706  1.         -0.05671968]\n",
      " [14.         -0.32418073  1.         -0.05671968]\n",
      " [14.         -0.31627263  2.         -0.05671968]]\n",
      "[[23.40574     0.46621737  2.9925811   0.03636099]]\n"
     ]
    }
   ],
   "source": [
    "test1 = testsequence[:n_steps]\n",
    "print(test1.shape)\n",
    "test1.shape = (1, n_steps, n_features)\n",
    "print(test1.shape)\n",
    "test1_pred = model.predict(x=test1)\n",
    "print(testsequence[n_steps-2:n_steps+2])\n",
    "print(test1_pred)\n",
    "\n",
    "test1 = testsequence[128:n_steps+128]\n",
    "print(test1.shape)\n",
    "test1.shape = (1, n_steps, n_features)\n",
    "test1_pred = model.predict(x=test1)\n",
    "print(testsequence[128+n_steps-2:128+n_steps+2])\n",
    "print(test1_pred)"
   ]
  },
  {
   "cell_type": "code",
   "execution_count": 25,
   "metadata": {},
   "outputs": [
    {
     "data": {
      "text/plain": [
       "array([[23.219088  ,  0.22558847, -4.3382473 , -0.12333556],\n",
       "       [22.559896  ,  0.04948702,  7.6385403 ,  0.04961424],\n",
       "       [21.546892  ,  0.17608061,  1.665336  , -0.08654995],\n",
       "       ...,\n",
       "       [13.299914  , -0.20339271, -4.3585844 , -0.39106745],\n",
       "       [29.021019  ,  0.34954777, -8.505351  ,  0.05144243],\n",
       "       [23.504202  , -0.19306716, 13.864982  ,  0.30872566]],\n",
       "      dtype=float32)"
      ]
     },
     "execution_count": 25,
     "metadata": {},
     "output_type": "execute_result"
    }
   ],
   "source": [
    "y_pred = model.predict(x=X_test)\n",
    "y_pred"
   ]
  },
  {
   "cell_type": "code",
   "execution_count": 26,
   "metadata": {},
   "outputs": [
    {
     "data": {
      "text/plain": [
       "(97936, 4)"
      ]
     },
     "execution_count": 26,
     "metadata": {},
     "output_type": "execute_result"
    }
   ],
   "source": [
    "y_test.shape = (y_test.shape[0], n_features)\n",
    "y_test.shape"
   ]
  },
  {
   "cell_type": "code",
   "execution_count": 29,
   "metadata": {},
   "outputs": [
    {
     "name": "stdout",
     "output_type": "stream",
     "text": [
      "Test RMSE: 69.640\n"
     ]
    }
   ],
   "source": [
    "import math\n",
    "from sklearn.metrics import mean_squared_error\n",
    "\n",
    "rmse = math.sqrt(mean_squared_error(y_test, y_pred))\n",
    "print('Test RMSE: %.3f' % rmse)\n"
   ]
  },
  {
   "cell_type": "code",
   "execution_count": 30,
   "metadata": {},
   "outputs": [
    {
     "name": "stdout",
     "output_type": "stream",
     "text": [
      "testing_dataset:  (97936, 4)\n",
      "testing_pred:  (97936, 4)\n",
      "[[14.         -0.32418073  1.         -0.05671968]\n",
      " [14.         -0.31627263  2.         -0.05671968]]\n",
      "[[23.40574     0.46621624  2.9925818   0.03636007]\n",
      " [ 1.3163145  -0.596959   -0.6388699   0.09897815]]\n",
      "(97936, 4)\n",
      "[[-9.40574074 -0.79039697 -1.99258184 -0.09307976]\n",
      " [12.68368554  0.28068637  2.63886988 -0.15569783]]\n",
      "Test RMSE: 69.640\n"
     ]
    }
   ],
   "source": [
    "\n",
    "#testing_dataset = sequence\n",
    "print(\"testing_dataset: \", y_test.shape)\n",
    "print(\"testing_pred: \", y_pred.shape)\n",
    "\n",
    "print(y_test[128:130:])\n",
    "print(y_pred[128:130])\n",
    "errors = y_test - y_pred\n",
    "print(errors.shape)\n",
    "print(errors[128:130])\n",
    "\n",
    "rmse = math.sqrt(mean_squared_error(y_test, y_pred))\n",
    "print('Test RMSE: %.3f' % rmse)"
   ]
  },
  {
   "cell_type": "code",
   "execution_count": 40,
   "metadata": {},
   "outputs": [
    {
     "name": "stdout",
     "output_type": "stream",
     "text": [
      "Int64Index([ 2000, 80293, 80294, 92410, 37934, 45072, 13302, 17273, 44950,\n",
      "            31267,\n",
      "            ...\n",
      "             1862, 59731, 20768, 20771, 20776, 93880, 65315, 65300, 29576,\n",
      "            66573],\n",
      "           dtype='int64', length=26703)\n",
      "(97936, 4)\n",
      "    eclicks\n",
      "0  0.066616\n",
      "1  0.106334\n",
      "2  0.029830\n",
      "3  0.158960\n",
      "4  0.144972\n",
      "RangeIndex(start=0, stop=97936, step=1)\n",
      "       day  anon_accountID   avg_bid  impressions   clicks\n",
      "2000    89              30 -0.015765          8.0 -0.05672\n",
      "80293   89              14 -0.363721          2.0 -0.05672\n",
      "80294   89              14 -0.363721          1.0 -0.05672\n",
      "92410   89              14 -0.221375          4.0 -0.05672\n",
      "37934   89              13 -0.173927          1.0 -0.05672\n",
      "(26703, 5)\n",
      "(97936, 6)\n",
      "    day  anon_accountID   avg_bid  impressions   clicks   eclicks\n",
      "0  89.0            30.0 -0.015765          8.0 -0.05672  0.066616\n",
      "1  89.0            14.0 -0.363721          2.0 -0.05672  0.106334\n",
      "2  89.0            14.0 -0.363721          1.0 -0.05672  0.029830\n",
      "3  89.0            14.0 -0.221375          4.0 -0.05672  0.158960\n",
      "4  89.0            13.0 -0.173927          1.0 -0.05672  0.144972\n",
      "Empty DataFrame\n",
      "Columns: [day, anon_accountID, avg_bid, impressions, clicks, eclicks]\n",
      "Index: []\n"
     ]
    },
    {
     "data": {
      "image/png": "[encoded data removed]",
      "text/plain": [
       "<Figure size 864x432 with 1 Axes>"
      ]
     },
     "metadata": {},
     "output_type": "display_data"
    }
   ],
   "source": [
    "df2 = df.copy()\n",
    "df2 = df2.loc[training_points:]\n",
    "df2 = df2[['day','anon_accountID', 'avg_bid', 'impressions', 'clicks']]\n",
    "print(df2.index)\n",
    "\n",
    "errorsDF = pd.DataFrame(errors, columns=['eaccID','ebid','eimpressions','eclicks'])\n",
    "#errorsDF = pd.DataFrame(errors, columns=['a'])\n",
    "print(errorsDF.shape)\n",
    "errorsDF = errorsDF[['eclicks']]\n",
    "errorsDF['eclicks'] = errorsDF['eclicks'].abs()\n",
    "#errorsDF['predval']=scaler.inverse_transform(pd.DataFrame(errorsDF['predval']))\n",
    "print(errorsDF.head(5))\n",
    "print(errorsDF.index)\n",
    "\n",
    "print(df2.head(5))\n",
    "print(df2.shape)\n",
    "\n",
    "df2.reset_index(drop=True, inplace=True)\n",
    "errorsDF.reset_index(drop=True, inplace=True)\n",
    "\n",
    "dfModified = pd.concat([df2, errorsDF], axis=1)\n",
    "print(dfModified.shape)\n",
    "print(dfModified.head(5))\n",
    "dfModified.plot(x='day', y='eclicks', figsize=(12,6))\n",
    "plt.xlabel('Date time')\n",
    "plt.ylabel('Value')\n",
    "plt.title('Time Series of value by date time')\n",
    "\n",
    "df2 = dfModified[(dfModified.day >= 0) & (dfModified.day <=20)]\n",
    "df2 = df2.reset_index(drop=True)\n",
    "print(df2.head(5))"
   ]
  },
  {
   "cell_type": "code",
   "execution_count": 45,
   "metadata": {},
   "outputs": [
    {
     "name": "stdout",
     "output_type": "stream",
     "text": [
      "   oclicks\n",
      "0 -0.05672\n",
      "1 -0.05672\n",
      "2 -0.05672\n",
      "3 -0.05672\n",
      "4 -0.05672\n",
      "    pclicks\n",
      "0 -0.123336\n",
      "1  0.049614\n",
      "2 -0.086550\n",
      "3  0.102240\n",
      "4  0.088252\n"
     ]
    }
   ],
   "source": [
    "y_testDF = pd.DataFrame(y_test, columns=['anon_accountID','o_avg_bid','oimpressions','oclicks'])\n",
    "y_predDF = pd.DataFrame(y_pred, columns=['anon_accountID','p_avg_bid','pimpressions','pclicks'])\n",
    "y_testDF = y_testDF[['oclicks']]\n",
    "y_predDF = y_predDF[['pclicks']]\n",
    "# 'avg_bid', 'impressions', 'clicks'\n",
    "#y_testDF['origval']=scaler.inverse_transform(pd.DataFrame(y_testDF['origval']))\n",
    "#y_predDF['predval']=scaler.inverse_transform(pd.DataFrame(y_predDF['predval']))\n",
    "print(y_testDF.head(5))\n",
    "print(y_predDF.head(5))"
   ]
  },
  {
   "cell_type": "code",
   "execution_count": 46,
   "metadata": {},
   "outputs": [
    {
     "data": {
      "text/plain": [
       "[<matplotlib.lines.Line2D at 0x23b286ab518>]"
      ]
     },
     "execution_count": 46,
     "metadata": {},
     "output_type": "execute_result"
    },
    {
     "data": {
      "image/png": "[encoded data removed]",
      "text/plain": [
       "<Figure size 1728x1152 with 1 Axes>"
      ]
     },
     "metadata": {},
     "output_type": "display_data"
    }
   ],
   "source": [
    "plt.figure(figsize=(24,16))\n",
    "plt.plot(y_testDF, color='green')\n",
    "plt.plot(y_predDF, color='red')"
   ]
  },
  {
   "cell_type": "code",
   "execution_count": 47,
   "metadata": {},
   "outputs": [
    {
     "name": "stdout",
     "output_type": "stream",
     "text": [
      "(97936,)\n",
      "97446\n",
      "[nan nan nan nan nan nan nan nan nan nan nan nan nan nan nan nan nan nan\n",
      " nan nan nan nan nan nan nan nan nan nan nan nan nan nan nan nan nan nan\n",
      " nan nan nan nan nan nan nan nan nan nan nan nan nan nan nan nan nan nan\n",
      " nan nan nan nan nan nan nan nan nan nan nan nan nan nan nan nan nan nan\n",
      " nan nan nan nan nan nan nan nan nan nan nan nan nan nan nan nan nan nan\n",
      " nan nan nan nan nan nan nan nan nan nan nan nan nan nan nan nan nan nan\n",
      " nan nan nan nan nan nan nan nan nan nan nan nan nan nan nan nan nan nan\n",
      " nan nan nan nan nan nan nan nan nan nan nan nan nan nan nan nan nan nan\n",
      " nan nan nan nan nan nan nan nan nan nan nan nan nan nan nan nan nan nan\n",
      " nan nan nan nan nan nan nan nan nan nan nan nan nan nan nan nan nan nan\n",
      " nan nan nan nan nan nan nan nan nan nan nan nan nan nan nan nan nan nan\n",
      " nan nan nan nan nan nan nan nan nan nan nan nan nan nan nan nan nan nan\n",
      " nan nan nan nan nan nan nan nan nan nan nan nan nan nan nan nan nan nan\n",
      " nan nan nan nan nan nan nan nan nan nan nan nan nan nan nan nan nan nan\n",
      " nan nan nan nan nan nan nan nan nan nan nan nan nan nan nan nan nan nan\n",
      " nan nan nan nan nan nan nan nan nan nan nan nan nan nan nan nan nan nan\n",
      " nan nan nan nan nan nan nan nan nan nan nan nan nan nan nan nan nan nan\n",
      " nan nan nan nan nan nan nan nan nan nan nan nan nan nan nan nan nan nan\n",
      " nan nan nan nan nan nan nan nan nan nan nan nan nan nan nan nan nan nan\n",
      " nan nan nan nan nan nan nan nan nan nan nan nan nan nan nan nan nan nan\n",
      " nan nan nan nan nan nan nan nan nan nan nan nan nan nan nan nan nan nan\n",
      " nan nan nan nan nan nan nan nan nan nan nan nan nan nan nan nan nan nan\n",
      " nan nan nan nan nan nan nan nan nan nan nan nan nan nan nan nan nan nan\n",
      " nan nan nan nan nan nan nan nan nan nan nan nan nan nan nan nan nan nan\n",
      " nan nan nan nan nan nan nan nan nan nan nan nan nan nan nan nan nan nan\n",
      " nan nan nan nan nan nan nan nan nan nan nan nan nan nan nan nan nan nan\n",
      " nan nan nan nan nan nan nan nan nan nan nan nan nan nan nan nan nan nan\n",
      " nan nan nan nan]\n"
     ]
    }
   ],
   "source": [
    "#based on cutoff after sorting errors\n",
    "dist = np.linalg.norm(y_testDF - y_predDF, axis=-1)\n",
    "\n",
    "scores =dist.copy()\n",
    "print(scores.shape)\n",
    "scores.sort()\n",
    "cutoff = int(0.995 * len(scores))\n",
    "print(cutoff)\n",
    "print(scores[cutoff:])\n",
    "threshold= scores[cutoff]\n"
   ]
  },
  {
   "cell_type": "code",
   "execution_count": 48,
   "metadata": {},
   "outputs": [
    {
     "name": "stdout",
     "output_type": "stream",
     "text": [
      "2064\n",
      "100000\n",
      "100000\n"
     ]
    },
    {
     "name": "stderr",
     "output_type": "stream",
     "text": [
      "C:\\Users\\Shumpu\\Anaconda2\\envs\\p36\\lib\\site-packages\\ipykernel_launcher.py:2: RuntimeWarning: invalid value encountered in greater_equal\n",
      "  \n"
     ]
    }
   ],
   "source": [
    "#label the records anomalies or not based on threshold\n",
    "z = zip(dist >= threshold, dist)\n",
    "\n",
    "y_label=np.zeros(df.shape[0])\n",
    "error = np.zeros(df.shape[0])\n",
    "i=training_points+n_steps\n",
    "print(i)\n",
    "for idx, (is_anomaly, dist) in enumerate(z):\n",
    "    if is_anomaly:\n",
    "        y_label[i] = 1\n",
    "    error[i] = dist\n",
    "    i = i + 1\n",
    "print(len(y_label))\n",
    "print(len(error))"
   ]
  },
  {
   "cell_type": "code",
   "execution_count": 49,
   "metadata": {},
   "outputs": [],
   "source": [
    "class Visualization:\n",
    "    labels = [\"Normal\", \"Anomaly\"]\n",
    "\n",
    "    def draw_anomaly(self, y, error, threshold):\n",
    "        groupsDF = pd.DataFrame({'error': error,\n",
    "                                 'true': y}).groupby('true')\n",
    "\n",
    "        figure, axes = plt.subplots(figsize=(12, 8))\n",
    "\n",
    "        for name, group in groupsDF:\n",
    "            x = group.index.values\n",
    "            y = group.error\n",
    "            axes.plot(x, y, marker='x' if name == 1 else 'o', linestyle='',\n",
    "                    color='r' if name == 1 else 'g', label=\"Anomaly\" if name == 1 else \"Normal\")\n",
    "\n",
    "        axes.hlines(threshold, axes.get_xlim()[0], axes.get_xlim()[1], colors=\"b\", zorder=100, label='Threshold')\n",
    "        axes.legend()\n",
    "        \n",
    "        plt.title(\"Anomalies\")\n",
    "        plt.ylabel(\"Error\")\n",
    "        plt.xlabel(\"Data\")\n",
    "        plt.show()\n",
    "\n",
    "    def draw_error(self, error, threshold):\n",
    "        plt.figure(figsize=(10, 8))\n",
    "        plt.plot(error, marker='o', ms=3.5, linestyle='',\n",
    "                 label='Point')\n",
    "\n",
    "        plt.hlines(threshold, xmin=0, xmax=len(error)-1, colors=\"r\", zorder=100, label='Threshold')\n",
    "        plt.legend()\n",
    "        plt.title(\"Reconstruction error\")\n",
    "        plt.ylabel(\"Error\")\n",
    "        plt.xlabel(\"Data\")\n",
    "        plt.show()"
   ]
  },
  {
   "cell_type": "code",
   "execution_count": 50,
   "metadata": {},
   "outputs": [
    {
     "data": {
      "image/png": "[encoded data removed]",
      "text/plain": [
       "<Figure size 864x576 with 1 Axes>"
      ]
     },
     "metadata": {},
     "output_type": "display_data"
    }
   ],
   "source": [
    "viz = Visualization()\n",
    "viz.draw_anomaly(y_label, error, threshold)"
   ]
  },
  {
   "cell_type": "code",
   "execution_count": 54,
   "metadata": {},
   "outputs": [
    {
     "name": "stdout",
     "output_type": "stream",
     "text": [
      "(100000, 7)\n",
      "100000\n"
     ]
    },
    {
     "data": {
      "text/html": [
       "<div>\n",
       "<style scoped>\n",
       "    .dataframe tbody tr th:only-of-type {\n",
       "        vertical-align: middle;\n",
       "    }\n",
       "\n",
       "    .dataframe tbody tr th {\n",
       "        vertical-align: top;\n",
       "    }\n",
       "\n",
       "    .dataframe thead th {\n",
       "        text-align: right;\n",
       "    }\n",
       "</style>\n",
       "<table border=\"1\" class=\"dataframe\">\n",
       "  <thead>\n",
       "    <tr style=\"text-align: right;\">\n",
       "      <th></th>\n",
       "      <th>day</th>\n",
       "      <th>clicks</th>\n",
       "      <th>error</th>\n",
       "      <th>anomaly</th>\n",
       "    </tr>\n",
       "  </thead>\n",
       "  <tbody>\n",
       "    <tr>\n",
       "      <th>0</th>\n",
       "      <td>1</td>\n",
       "      <td>-0.05672</td>\n",
       "      <td>0.0</td>\n",
       "      <td>0.0</td>\n",
       "    </tr>\n",
       "    <tr>\n",
       "      <th>12151</th>\n",
       "      <td>1</td>\n",
       "      <td>-0.05672</td>\n",
       "      <td>0.0</td>\n",
       "      <td>0.0</td>\n",
       "    </tr>\n",
       "    <tr>\n",
       "      <th>12157</th>\n",
       "      <td>1</td>\n",
       "      <td>-0.05672</td>\n",
       "      <td>0.0</td>\n",
       "      <td>0.0</td>\n",
       "    </tr>\n",
       "    <tr>\n",
       "      <th>12162</th>\n",
       "      <td>1</td>\n",
       "      <td>-0.05672</td>\n",
       "      <td>0.0</td>\n",
       "      <td>0.0</td>\n",
       "    </tr>\n",
       "    <tr>\n",
       "      <th>12175</th>\n",
       "      <td>1</td>\n",
       "      <td>-0.05672</td>\n",
       "      <td>0.0</td>\n",
       "      <td>0.0</td>\n",
       "    </tr>\n",
       "  </tbody>\n",
       "</table>\n",
       "</div>"
      ],
      "text/plain": [
       "       day   clicks  error  anomaly\n",
       "0        1 -0.05672    0.0      0.0\n",
       "12151    1 -0.05672    0.0      0.0\n",
       "12157    1 -0.05672    0.0      0.0\n",
       "12162    1 -0.05672    0.0      0.0\n",
       "12175    1 -0.05672    0.0      0.0"
      ]
     },
     "execution_count": 54,
     "metadata": {},
     "output_type": "execute_result"
    }
   ],
   "source": [
    "print(df.shape)\n",
    "print(len(y_label))\n",
    "adf = pd.DataFrame({'day': df['day'], 'clicks': df['clicks'],\n",
    "                    'error': error, 'anomaly': y_label})\n",
    "adf.head(5)\n"
   ]
  },
  {
   "cell_type": "code",
   "execution_count": 55,
   "metadata": {},
   "outputs": [
    {
     "data": {
      "text/plain": [
       "Text(0.5,1,'Time Series of value by date time')"
      ]
     },
     "execution_count": 55,
     "metadata": {},
     "output_type": "execute_result"
    },
    {
     "data": {
      "image/png": "[encoded data removed]",
      "text/plain": [
       "<Figure size 864x432 with 1 Axes>"
      ]
     },
     "metadata": {},
     "output_type": "display_data"
    }
   ],
   "source": [
    "figure, axes = plt.subplots(figsize=(12, 6))\n",
    "axes.plot(adf['day'], adf['clicks'], color='g')\n",
    "anomaliesDF = adf.query('anomaly == 1')\n",
    "axes.scatter(anomaliesDF['day'].values, anomaliesDF['clicks'], color='r')\n",
    "plt.xlabel('Date time')\n",
    "plt.ylabel('observation')\n",
    "plt.title('Time Series of value by date time')"
   ]
  },
  {
   "cell_type": "code",
   "execution_count": null,
   "metadata": {},
   "outputs": [],
   "source": []
  }
 ],
 "metadata": {
  "kernelspec": {
   "display_name": "python36",
   "language": "python",
   "name": "python36"
  },
  "language_info": {
   "codemirror_mode": {
    "name": "ipython",
    "version": 3
   },
   "file_extension": ".py",
   "mimetype": "text/x-python",
   "name": "python",
   "nbconvert_exporter": "python",
   "pygments_lexer": "ipython3",
   "version": "3.6.5"
  }
 },
 "nbformat": 4,
 "nbformat_minor": 2
}
